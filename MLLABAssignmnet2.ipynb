{
  "nbformat": 4,
  "nbformat_minor": 0,
  "metadata": {
    "colab": {
      "provenance": []
    },
    "kernelspec": {
      "name": "python3",
      "display_name": "Python 3"
    },
    "language_info": {
      "name": "python"
    }
  },
  "cells": [
    {
      "cell_type": "markdown",
      "source": [
        "# 1.) Import the data from CCLE into a new Google Colab file"
      ],
      "metadata": {
        "id": "7ywSRtNI4s5h"
      }
    },
    {
      "cell_type": "code",
      "execution_count": 1,
      "metadata": {
        "id": "nsG1QV154GYZ"
      },
      "outputs": [],
      "source": [
        "import pandas as pd\n",
        "from google.colab import drive\n",
        "import matplotlib.pyplot as plt"
      ]
    },
    {
      "cell_type": "code",
      "source": [
        "drive.mount('/content/gdrive/', force_remount = True)"
      ],
      "metadata": {
        "id": "Iku0T8Ou4Lcu",
        "colab": {
          "base_uri": "https://localhost:8080/"
        },
        "outputId": "d941d81c-a444-4f92-bc8e-4e592df7abf0"
      },
      "execution_count": 2,
      "outputs": [
        {
          "output_type": "stream",
          "name": "stdout",
          "text": [
            "Mounted at /content/gdrive/\n"
          ]
        }
      ]
    },
    {
      "cell_type": "code",
      "source": [
        "df=pd.read_csv(\"/content/gdrive/MyDrive/insurance.csv\")\n",
        "df.head()"
      ],
      "metadata": {
        "id": "KJQfo8mz43Kz",
        "colab": {
          "base_uri": "https://localhost:8080/",
          "height": 206
        },
        "outputId": "967c7054-6fa9-46e9-c324-6b5c3e3cea4c"
      },
      "execution_count": 3,
      "outputs": [
        {
          "output_type": "execute_result",
          "data": {
            "text/plain": [
              "   age     sex     bmi  children smoker     region      charges\n",
              "0   19  female  27.900         0    yes  southwest  16884.92400\n",
              "1   18    male  33.770         1     no  southeast   1725.55230\n",
              "2   28    male  33.000         3     no  southeast   4449.46200\n",
              "3   33    male  22.705         0     no  northwest  21984.47061\n",
              "4   32    male  28.880         0     no  northwest   3866.85520"
            ],
            "text/html": [
              "\n",
              "  <div id=\"df-cd9db97a-c371-4ff9-b49b-1df5e26e40b1\">\n",
              "    <div class=\"colab-df-container\">\n",
              "      <div>\n",
              "<style scoped>\n",
              "    .dataframe tbody tr th:only-of-type {\n",
              "        vertical-align: middle;\n",
              "    }\n",
              "\n",
              "    .dataframe tbody tr th {\n",
              "        vertical-align: top;\n",
              "    }\n",
              "\n",
              "    .dataframe thead th {\n",
              "        text-align: right;\n",
              "    }\n",
              "</style>\n",
              "<table border=\"1\" class=\"dataframe\">\n",
              "  <thead>\n",
              "    <tr style=\"text-align: right;\">\n",
              "      <th></th>\n",
              "      <th>age</th>\n",
              "      <th>sex</th>\n",
              "      <th>bmi</th>\n",
              "      <th>children</th>\n",
              "      <th>smoker</th>\n",
              "      <th>region</th>\n",
              "      <th>charges</th>\n",
              "    </tr>\n",
              "  </thead>\n",
              "  <tbody>\n",
              "    <tr>\n",
              "      <th>0</th>\n",
              "      <td>19</td>\n",
              "      <td>female</td>\n",
              "      <td>27.900</td>\n",
              "      <td>0</td>\n",
              "      <td>yes</td>\n",
              "      <td>southwest</td>\n",
              "      <td>16884.92400</td>\n",
              "    </tr>\n",
              "    <tr>\n",
              "      <th>1</th>\n",
              "      <td>18</td>\n",
              "      <td>male</td>\n",
              "      <td>33.770</td>\n",
              "      <td>1</td>\n",
              "      <td>no</td>\n",
              "      <td>southeast</td>\n",
              "      <td>1725.55230</td>\n",
              "    </tr>\n",
              "    <tr>\n",
              "      <th>2</th>\n",
              "      <td>28</td>\n",
              "      <td>male</td>\n",
              "      <td>33.000</td>\n",
              "      <td>3</td>\n",
              "      <td>no</td>\n",
              "      <td>southeast</td>\n",
              "      <td>4449.46200</td>\n",
              "    </tr>\n",
              "    <tr>\n",
              "      <th>3</th>\n",
              "      <td>33</td>\n",
              "      <td>male</td>\n",
              "      <td>22.705</td>\n",
              "      <td>0</td>\n",
              "      <td>no</td>\n",
              "      <td>northwest</td>\n",
              "      <td>21984.47061</td>\n",
              "    </tr>\n",
              "    <tr>\n",
              "      <th>4</th>\n",
              "      <td>32</td>\n",
              "      <td>male</td>\n",
              "      <td>28.880</td>\n",
              "      <td>0</td>\n",
              "      <td>no</td>\n",
              "      <td>northwest</td>\n",
              "      <td>3866.85520</td>\n",
              "    </tr>\n",
              "  </tbody>\n",
              "</table>\n",
              "</div>\n",
              "      <button class=\"colab-df-convert\" onclick=\"convertToInteractive('df-cd9db97a-c371-4ff9-b49b-1df5e26e40b1')\"\n",
              "              title=\"Convert this dataframe to an interactive table.\"\n",
              "              style=\"display:none;\">\n",
              "        \n",
              "  <svg xmlns=\"http://www.w3.org/2000/svg\" height=\"24px\"viewBox=\"0 0 24 24\"\n",
              "       width=\"24px\">\n",
              "    <path d=\"M0 0h24v24H0V0z\" fill=\"none\"/>\n",
              "    <path d=\"M18.56 5.44l.94 2.06.94-2.06 2.06-.94-2.06-.94-.94-2.06-.94 2.06-2.06.94zm-11 1L8.5 8.5l.94-2.06 2.06-.94-2.06-.94L8.5 2.5l-.94 2.06-2.06.94zm10 10l.94 2.06.94-2.06 2.06-.94-2.06-.94-.94-2.06-.94 2.06-2.06.94z\"/><path d=\"M17.41 7.96l-1.37-1.37c-.4-.4-.92-.59-1.43-.59-.52 0-1.04.2-1.43.59L10.3 9.45l-7.72 7.72c-.78.78-.78 2.05 0 2.83L4 21.41c.39.39.9.59 1.41.59.51 0 1.02-.2 1.41-.59l7.78-7.78 2.81-2.81c.8-.78.8-2.07 0-2.86zM5.41 20L4 18.59l7.72-7.72 1.47 1.35L5.41 20z\"/>\n",
              "  </svg>\n",
              "      </button>\n",
              "      \n",
              "  <style>\n",
              "    .colab-df-container {\n",
              "      display:flex;\n",
              "      flex-wrap:wrap;\n",
              "      gap: 12px;\n",
              "    }\n",
              "\n",
              "    .colab-df-convert {\n",
              "      background-color: #E8F0FE;\n",
              "      border: none;\n",
              "      border-radius: 50%;\n",
              "      cursor: pointer;\n",
              "      display: none;\n",
              "      fill: #1967D2;\n",
              "      height: 32px;\n",
              "      padding: 0 0 0 0;\n",
              "      width: 32px;\n",
              "    }\n",
              "\n",
              "    .colab-df-convert:hover {\n",
              "      background-color: #E2EBFA;\n",
              "      box-shadow: 0px 1px 2px rgba(60, 64, 67, 0.3), 0px 1px 3px 1px rgba(60, 64, 67, 0.15);\n",
              "      fill: #174EA6;\n",
              "    }\n",
              "\n",
              "    [theme=dark] .colab-df-convert {\n",
              "      background-color: #3B4455;\n",
              "      fill: #D2E3FC;\n",
              "    }\n",
              "\n",
              "    [theme=dark] .colab-df-convert:hover {\n",
              "      background-color: #434B5C;\n",
              "      box-shadow: 0px 1px 3px 1px rgba(0, 0, 0, 0.15);\n",
              "      filter: drop-shadow(0px 1px 2px rgba(0, 0, 0, 0.3));\n",
              "      fill: #FFFFFF;\n",
              "    }\n",
              "  </style>\n",
              "\n",
              "      <script>\n",
              "        const buttonEl =\n",
              "          document.querySelector('#df-cd9db97a-c371-4ff9-b49b-1df5e26e40b1 button.colab-df-convert');\n",
              "        buttonEl.style.display =\n",
              "          google.colab.kernel.accessAllowed ? 'block' : 'none';\n",
              "\n",
              "        async function convertToInteractive(key) {\n",
              "          const element = document.querySelector('#df-cd9db97a-c371-4ff9-b49b-1df5e26e40b1');\n",
              "          const dataTable =\n",
              "            await google.colab.kernel.invokeFunction('convertToInteractive',\n",
              "                                                     [key], {});\n",
              "          if (!dataTable) return;\n",
              "\n",
              "          const docLinkHtml = 'Like what you see? Visit the ' +\n",
              "            '<a target=\"_blank\" href=https://colab.research.google.com/notebooks/data_table.ipynb>data table notebook</a>'\n",
              "            + ' to learn more about interactive tables.';\n",
              "          element.innerHTML = '';\n",
              "          dataTable['output_type'] = 'display_data';\n",
              "          await google.colab.output.renderOutput(dataTable, element);\n",
              "          const docLink = document.createElement('div');\n",
              "          docLink.innerHTML = docLinkHtml;\n",
              "          element.appendChild(docLink);\n",
              "        }\n",
              "      </script>\n",
              "    </div>\n",
              "  </div>\n",
              "  "
            ]
          },
          "metadata": {},
          "execution_count": 3
        }
      ]
    },
    {
      "cell_type": "code",
      "source": [
        "df.loc[df['smoker']=='yes','smoker']=1\n",
        "df.loc[df['smoker']=='no','smoker']=0"
      ],
      "metadata": {
        "id": "N9Y_AoeC43Ub"
      },
      "execution_count": 4,
      "outputs": []
    },
    {
      "cell_type": "code",
      "source": [
        "df.loc[df['sex']=='female','sex']=1\n",
        "df.loc[df['sex']=='male','sex']=0"
      ],
      "metadata": {
        "id": "JvktLOSE5cfm"
      },
      "execution_count": 5,
      "outputs": []
    },
    {
      "cell_type": "code",
      "source": [
        "df.loc[df['region']=='southwest','region']=1\n",
        "df.loc[df['region']=='northwest','region']=2\n",
        "df.loc[df['region']=='southeast','region']=3\n",
        "df.loc[df['region']=='northeast','region']=4"
      ],
      "metadata": {
        "id": "-La6GmoTYzsC"
      },
      "execution_count": 6,
      "outputs": []
    },
    {
      "cell_type": "code",
      "source": [
        "df.head()"
      ],
      "metadata": {
        "colab": {
          "base_uri": "https://localhost:8080/",
          "height": 206
        },
        "id": "xFKIXVZiZNZL",
        "outputId": "7e98699e-4268-47a6-ea87-5c4a66cd9de0"
      },
      "execution_count": 7,
      "outputs": [
        {
          "output_type": "execute_result",
          "data": {
            "text/plain": [
              "   age sex     bmi  children smoker region      charges\n",
              "0   19   1  27.900         0      1      1  16884.92400\n",
              "1   18   0  33.770         1      0      3   1725.55230\n",
              "2   28   0  33.000         3      0      3   4449.46200\n",
              "3   33   0  22.705         0      0      2  21984.47061\n",
              "4   32   0  28.880         0      0      2   3866.85520"
            ],
            "text/html": [
              "\n",
              "  <div id=\"df-a21b698b-dede-4c26-a803-ca666f953bad\">\n",
              "    <div class=\"colab-df-container\">\n",
              "      <div>\n",
              "<style scoped>\n",
              "    .dataframe tbody tr th:only-of-type {\n",
              "        vertical-align: middle;\n",
              "    }\n",
              "\n",
              "    .dataframe tbody tr th {\n",
              "        vertical-align: top;\n",
              "    }\n",
              "\n",
              "    .dataframe thead th {\n",
              "        text-align: right;\n",
              "    }\n",
              "</style>\n",
              "<table border=\"1\" class=\"dataframe\">\n",
              "  <thead>\n",
              "    <tr style=\"text-align: right;\">\n",
              "      <th></th>\n",
              "      <th>age</th>\n",
              "      <th>sex</th>\n",
              "      <th>bmi</th>\n",
              "      <th>children</th>\n",
              "      <th>smoker</th>\n",
              "      <th>region</th>\n",
              "      <th>charges</th>\n",
              "    </tr>\n",
              "  </thead>\n",
              "  <tbody>\n",
              "    <tr>\n",
              "      <th>0</th>\n",
              "      <td>19</td>\n",
              "      <td>1</td>\n",
              "      <td>27.900</td>\n",
              "      <td>0</td>\n",
              "      <td>1</td>\n",
              "      <td>1</td>\n",
              "      <td>16884.92400</td>\n",
              "    </tr>\n",
              "    <tr>\n",
              "      <th>1</th>\n",
              "      <td>18</td>\n",
              "      <td>0</td>\n",
              "      <td>33.770</td>\n",
              "      <td>1</td>\n",
              "      <td>0</td>\n",
              "      <td>3</td>\n",
              "      <td>1725.55230</td>\n",
              "    </tr>\n",
              "    <tr>\n",
              "      <th>2</th>\n",
              "      <td>28</td>\n",
              "      <td>0</td>\n",
              "      <td>33.000</td>\n",
              "      <td>3</td>\n",
              "      <td>0</td>\n",
              "      <td>3</td>\n",
              "      <td>4449.46200</td>\n",
              "    </tr>\n",
              "    <tr>\n",
              "      <th>3</th>\n",
              "      <td>33</td>\n",
              "      <td>0</td>\n",
              "      <td>22.705</td>\n",
              "      <td>0</td>\n",
              "      <td>0</td>\n",
              "      <td>2</td>\n",
              "      <td>21984.47061</td>\n",
              "    </tr>\n",
              "    <tr>\n",
              "      <th>4</th>\n",
              "      <td>32</td>\n",
              "      <td>0</td>\n",
              "      <td>28.880</td>\n",
              "      <td>0</td>\n",
              "      <td>0</td>\n",
              "      <td>2</td>\n",
              "      <td>3866.85520</td>\n",
              "    </tr>\n",
              "  </tbody>\n",
              "</table>\n",
              "</div>\n",
              "      <button class=\"colab-df-convert\" onclick=\"convertToInteractive('df-a21b698b-dede-4c26-a803-ca666f953bad')\"\n",
              "              title=\"Convert this dataframe to an interactive table.\"\n",
              "              style=\"display:none;\">\n",
              "        \n",
              "  <svg xmlns=\"http://www.w3.org/2000/svg\" height=\"24px\"viewBox=\"0 0 24 24\"\n",
              "       width=\"24px\">\n",
              "    <path d=\"M0 0h24v24H0V0z\" fill=\"none\"/>\n",
              "    <path d=\"M18.56 5.44l.94 2.06.94-2.06 2.06-.94-2.06-.94-.94-2.06-.94 2.06-2.06.94zm-11 1L8.5 8.5l.94-2.06 2.06-.94-2.06-.94L8.5 2.5l-.94 2.06-2.06.94zm10 10l.94 2.06.94-2.06 2.06-.94-2.06-.94-.94-2.06-.94 2.06-2.06.94z\"/><path d=\"M17.41 7.96l-1.37-1.37c-.4-.4-.92-.59-1.43-.59-.52 0-1.04.2-1.43.59L10.3 9.45l-7.72 7.72c-.78.78-.78 2.05 0 2.83L4 21.41c.39.39.9.59 1.41.59.51 0 1.02-.2 1.41-.59l7.78-7.78 2.81-2.81c.8-.78.8-2.07 0-2.86zM5.41 20L4 18.59l7.72-7.72 1.47 1.35L5.41 20z\"/>\n",
              "  </svg>\n",
              "      </button>\n",
              "      \n",
              "  <style>\n",
              "    .colab-df-container {\n",
              "      display:flex;\n",
              "      flex-wrap:wrap;\n",
              "      gap: 12px;\n",
              "    }\n",
              "\n",
              "    .colab-df-convert {\n",
              "      background-color: #E8F0FE;\n",
              "      border: none;\n",
              "      border-radius: 50%;\n",
              "      cursor: pointer;\n",
              "      display: none;\n",
              "      fill: #1967D2;\n",
              "      height: 32px;\n",
              "      padding: 0 0 0 0;\n",
              "      width: 32px;\n",
              "    }\n",
              "\n",
              "    .colab-df-convert:hover {\n",
              "      background-color: #E2EBFA;\n",
              "      box-shadow: 0px 1px 2px rgba(60, 64, 67, 0.3), 0px 1px 3px 1px rgba(60, 64, 67, 0.15);\n",
              "      fill: #174EA6;\n",
              "    }\n",
              "\n",
              "    [theme=dark] .colab-df-convert {\n",
              "      background-color: #3B4455;\n",
              "      fill: #D2E3FC;\n",
              "    }\n",
              "\n",
              "    [theme=dark] .colab-df-convert:hover {\n",
              "      background-color: #434B5C;\n",
              "      box-shadow: 0px 1px 3px 1px rgba(0, 0, 0, 0.15);\n",
              "      filter: drop-shadow(0px 1px 2px rgba(0, 0, 0, 0.3));\n",
              "      fill: #FFFFFF;\n",
              "    }\n",
              "  </style>\n",
              "\n",
              "      <script>\n",
              "        const buttonEl =\n",
              "          document.querySelector('#df-a21b698b-dede-4c26-a803-ca666f953bad button.colab-df-convert');\n",
              "        buttonEl.style.display =\n",
              "          google.colab.kernel.accessAllowed ? 'block' : 'none';\n",
              "\n",
              "        async function convertToInteractive(key) {\n",
              "          const element = document.querySelector('#df-a21b698b-dede-4c26-a803-ca666f953bad');\n",
              "          const dataTable =\n",
              "            await google.colab.kernel.invokeFunction('convertToInteractive',\n",
              "                                                     [key], {});\n",
              "          if (!dataTable) return;\n",
              "\n",
              "          const docLinkHtml = 'Like what you see? Visit the ' +\n",
              "            '<a target=\"_blank\" href=https://colab.research.google.com/notebooks/data_table.ipynb>data table notebook</a>'\n",
              "            + ' to learn more about interactive tables.';\n",
              "          element.innerHTML = '';\n",
              "          dataTable['output_type'] = 'display_data';\n",
              "          await google.colab.output.renderOutput(dataTable, element);\n",
              "          const docLink = document.createElement('div');\n",
              "          docLink.innerHTML = docLinkHtml;\n",
              "          element.appendChild(docLink);\n",
              "        }\n",
              "      </script>\n",
              "    </div>\n",
              "  </div>\n",
              "  "
            ]
          },
          "metadata": {},
          "execution_count": 7
        }
      ]
    },
    {
      "cell_type": "markdown",
      "source": [
        "# 2.) Split the data into 80/20, in/out sample"
      ],
      "metadata": {
        "id": "b6dsh9sc43jg"
      }
    },
    {
      "cell_type": "code",
      "source": [
        "import numpy as np"
      ],
      "metadata": {
        "id": "0Dj2Fopx47jY"
      },
      "execution_count": 8,
      "outputs": []
    },
    {
      "cell_type": "code",
      "source": [
        "from pandas.core.arrays.sparse import array\n",
        "data=np.array(df.iloc[:,:-1])\n",
        "target=np.array(df.iloc[:,-1])"
      ],
      "metadata": {
        "id": "EU2j_fos48Uz"
      },
      "execution_count": 9,
      "outputs": []
    },
    {
      "cell_type": "code",
      "source": [
        "cut=int((len(data)*.8)//1)"
      ],
      "metadata": {
        "id": "4zdi7HCb48X3"
      },
      "execution_count": 10,
      "outputs": []
    },
    {
      "cell_type": "code",
      "source": [
        "in_data=data[:cut]\n",
        "out_data=data[cut:]\n",
        "\n",
        "in_target=target[:cut]\n",
        "out_target=target[cut:]"
      ],
      "metadata": {
        "id": "Bp5VNQ8Nac0y"
      },
      "execution_count": 11,
      "outputs": []
    },
    {
      "cell_type": "markdown",
      "source": [
        "# 3.) Normalize the Data"
      ],
      "metadata": {
        "id": "hnZPWyYg48y9"
      }
    },
    {
      "cell_type": "code",
      "source": [
        "from sklearn import preprocessing"
      ],
      "metadata": {
        "id": "eq2VCgOk4-2u"
      },
      "execution_count": 12,
      "outputs": []
    },
    {
      "cell_type": "code",
      "source": [
        "scaler1=preprocessing.StandardScaler().fit(in_data)\n",
        "scaler2=preprocessing.StandardScaler().fit(out_data)\n",
        "in_data_scale=scaler1.transform(in_data)\n",
        "out_data_scale=scaler2.transform(out_data)"
      ],
      "metadata": {
        "id": "ye4jMpQt4_nP"
      },
      "execution_count": 13,
      "outputs": []
    },
    {
      "cell_type": "markdown",
      "source": [
        "# 4.) Get lambda from Lasso cross validation"
      ],
      "metadata": {
        "id": "8WC0zdBU5AIQ"
      }
    },
    {
      "cell_type": "code",
      "source": [
        "from sklearn.linear_model import LassoCV\n",
        "from sklearn.linear_model import Lasso"
      ],
      "metadata": {
        "id": "IAV53xNW5B-4"
      },
      "execution_count": 14,
      "outputs": []
    },
    {
      "cell_type": "code",
      "source": [
        "modCV1=LassoCV().fit(in_data_scale,in_target)\n",
        "a_in=modCV1.alpha_\n",
        "a_in"
      ],
      "metadata": {
        "id": "ksZzsNKL5Ca2",
        "colab": {
          "base_uri": "https://localhost:8080/"
        },
        "outputId": "86bf94cd-5007-4b9e-bcf3-3d4b7c8a2f5e"
      },
      "execution_count": 15,
      "outputs": [
        {
          "output_type": "execute_result",
          "data": {
            "text/plain": [
              "176.27926602952408"
            ]
          },
          "metadata": {},
          "execution_count": 15
        }
      ]
    },
    {
      "cell_type": "code",
      "source": [
        "modCV2=LassoCV().fit(out_data_scale,out_target)\n",
        "a_out=modCV2.alpha_\n",
        "a_out"
      ],
      "metadata": {
        "id": "jWRcnpVp5Cdb",
        "colab": {
          "base_uri": "https://localhost:8080/"
        },
        "outputId": "8e942b1c-d661-40d4-bc9d-117e55991cca"
      },
      "execution_count": 16,
      "outputs": [
        {
          "output_type": "execute_result",
          "data": {
            "text/plain": [
              "115.03927421975118"
            ]
          },
          "metadata": {},
          "execution_count": 16
        }
      ]
    },
    {
      "cell_type": "markdown",
      "source": [
        "# 5.) Run a Lasso regression with that Lambda"
      ],
      "metadata": {
        "id": "_--IC6M65DAG"
      }
    },
    {
      "cell_type": "code",
      "source": [
        "mod1=Lasso(alpha=a_in).fit(in_data_scale,in_target)"
      ],
      "metadata": {
        "id": "gkdZGF-45EvR"
      },
      "execution_count": 18,
      "outputs": []
    },
    {
      "cell_type": "code",
      "source": [
        "mod2=Lasso(alpha=a_out).fit(out_data_scale,out_target)"
      ],
      "metadata": {
        "id": "RSE7QkQt5FK4"
      },
      "execution_count": 19,
      "outputs": []
    },
    {
      "cell_type": "markdown",
      "source": [
        "# 6.) Visualize the coefficients "
      ],
      "metadata": {
        "id": "bIrU3G0V5Fkd"
      }
    },
    {
      "cell_type": "code",
      "source": [
        "mod1.predict(np.array(in_data_scale))\n",
        "mod1.coef_"
      ],
      "metadata": {
        "id": "yHMKovxw5JyP",
        "colab": {
          "base_uri": "https://localhost:8080/"
        },
        "outputId": "2bb5b32b-94ed-46f8-e08f-1dcbfa4bb1e4"
      },
      "execution_count": 23,
      "outputs": [
        {
          "output_type": "execute_result",
          "data": {
            "text/plain": [
              "array([3683.59361506,  110.79283002, 1954.18867448,  528.65754774,\n",
              "       9455.16094537,  337.76434542])"
            ]
          },
          "metadata": {},
          "execution_count": 23
        }
      ]
    },
    {
      "cell_type": "code",
      "source": [
        "mod2.predict(np.array(out_data_scale))\n",
        "mod2.coef_"
      ],
      "metadata": {
        "id": "hJ6_uMFn5Rmt",
        "colab": {
          "base_uri": "https://localhost:8080/"
        },
        "outputId": "a0b1439d-ac42-4568-c29f-a0c5c5013c0a"
      },
      "execution_count": 22,
      "outputs": [
        {
          "output_type": "execute_result",
          "data": {
            "text/plain": [
              "array([ 3276.54079231,   -95.01653532,  1855.5825659 ,   605.44085886,\n",
              "       10028.75157179,   -40.86527975])"
            ]
          },
          "metadata": {},
          "execution_count": 22
        }
      ]
    },
    {
      "cell_type": "code",
      "source": [
        "indata=pd.DataFrame(mod1.coef_,index=[\"age\",\"sex\",\"bmi\",\"children\",\"smoker\",\"region\"],columns=[\"coefficient\"])\n",
        "indata.plot(kind=\"bar\",title=\"in_data output\")\n",
        "plt.axhline(y=0,color=\"red\",linestyle=\"--\")"
      ],
      "metadata": {
        "colab": {
          "base_uri": "https://localhost:8080/",
          "height": 330
        },
        "id": "a6t9n5kEjI_b",
        "outputId": "6815e98d-c132-46fd-bfb7-c498a2ea8bf7"
      },
      "execution_count": 28,
      "outputs": [
        {
          "output_type": "execute_result",
          "data": {
            "text/plain": [
              "<matplotlib.lines.Line2D at 0x7f9a49f4d520>"
            ]
          },
          "metadata": {},
          "execution_count": 28
        },
        {
          "output_type": "display_data",
          "data": {
            "text/plain": [
              "<Figure size 432x288 with 1 Axes>"
            ],
            "image/png": "[encoded data removed]"
          },
          "metadata": {
            "needs_background": "light"
          }
        }
      ]
    },
    {
      "cell_type": "code",
      "source": [
        "outdata=pd.DataFrame(mod2.coef_,index=[\"age\",\"sex\",\"bmi\",\"children\",\"smoker\",\"region\"],columns=[\"coefficient\"])\n",
        "outdata.plot(kind=\"bar\",title=\"out_data output\")\n",
        "plt.axhline(y=0,color=\"red\",linestyle=\"--\")"
      ],
      "metadata": {
        "colab": {
          "base_uri": "https://localhost:8080/",
          "height": 330
        },
        "id": "t3fQorbjkalB",
        "outputId": "89b59cb8-414c-4c69-dabf-186fb811862c"
      },
      "execution_count": 29,
      "outputs": [
        {
          "output_type": "execute_result",
          "data": {
            "text/plain": [
              "<matplotlib.lines.Line2D at 0x7f9a4766e6a0>"
            ]
          },
          "metadata": {},
          "execution_count": 29
        },
        {
          "output_type": "display_data",
          "data": {
            "text/plain": [
              "<Figure size 432x288 with 1 Axes>"
            ],
            "image/png": "[encoded data removed]"
          },
          "metadata": {
            "needs_background": "light"
          }
        }
      ]
    },
    {
      "cell_type": "markdown",
      "source": [
        "# 7.) Interpret the coefficients"
      ],
      "metadata": {
        "id": "_vl1fi9m5Rzf"
      }
    },
    {
      "cell_type": "markdown",
      "source": [
        "In Sample\n",
        "\n",
        "The coefficient of age is 3683.59, which means that when age increases by 1, the charge will increase by about 3683.59 when holding other variables constant.\n",
        "\n",
        "The coefficient of sex is 110.8, which means female will be charged $110.8 more than male when holding other variables constant.\n",
        "\n",
        "The coefficient of bmi is 1954.59, which means that when bim increases by 1, the charge will increase by about 1954.59 when holding other variables constant.\n",
        "\n",
        "The coefficient of children is 528.66, which means that when children increases by 1, the charge will increase by about 528.66 when holding other variables constant.\n",
        "\n",
        "The coefficient of smoker is 9455.66, which means that smokers will be charged higher than non-smokers with about 9455.16.\n",
        "\n",
        "The coefficient of region is 337.76, which means that different region charge differently.\n",
        "\n",
        "\n"
      ],
      "metadata": {
        "id": "Kwik9uOBniJy"
      }
    },
    {
      "cell_type": "markdown",
      "source": [
        "Out Sample\n",
        "\n",
        "The coefficient of age is 3276.54, which means that when age increases by 1, the charge will increase by about 3276.54 when holding other variables constant.\n",
        "\n",
        "The coefficient of sex is 95.02, which means female will be charged 95.02 less than male when holding other variables constant.\n",
        "\n",
        "The coefficient of bmi is 1855.58, which means that when bim increases by 1, the charge will increase by about 1855.58 when holding other variables constant.\n",
        "\n",
        "The coefficient of children is 605.44, which means that when children increases by 1, the charge will increase by about 605.44 when holding other variables constant.\n",
        "\n",
        "The coefficient of smoker is 10028.75, which means that smokers will be charged higher than non-smokers with about 10028.75.\n",
        "\n",
        "The coefficient of region is -40.86, which means that different region charge differently.\n"
      ],
      "metadata": {
        "id": "B6MogIyS0MBk"
      }
    },
    {
      "cell_type": "markdown",
      "source": [
        "# 8.) Compare in and out of sample MSE’s"
      ],
      "metadata": {
        "id": "WpR8BVH05UFU"
      }
    },
    {
      "cell_type": "code",
      "source": [
        "import sklearn as sk"
      ],
      "metadata": {
        "id": "0KUbX6vImWjj"
      },
      "execution_count": 31,
      "outputs": []
    },
    {
      "cell_type": "code",
      "source": [
        "sk.metrics.mean_squared_error(in_target,mod1.predict(in_data_scale))"
      ],
      "metadata": {
        "id": "8GUc8LoE5Vym",
        "colab": {
          "base_uri": "https://localhost:8080/"
        },
        "outputId": "ed0a2880-d47a-4e8a-a6b5-e0a112755527"
      },
      "execution_count": 32,
      "outputs": [
        {
          "output_type": "execute_result",
          "data": {
            "text/plain": [
              "36500145.744634956"
            ]
          },
          "metadata": {},
          "execution_count": 32
        }
      ]
    },
    {
      "cell_type": "code",
      "source": [
        "sk.metrics.mean_squared_error(out_target,mod2.predict(out_data_scale))"
      ],
      "metadata": {
        "id": "1m8z_hPn5WvY",
        "colab": {
          "base_uri": "https://localhost:8080/"
        },
        "outputId": "54dfd65a-c2fa-4106-c446-220be113f4eb"
      },
      "execution_count": 33,
      "outputs": [
        {
          "output_type": "execute_result",
          "data": {
            "text/plain": [
              "36624524.24462681"
            ]
          },
          "metadata": {},
          "execution_count": 33
        }
      ]
    }
  ]
}