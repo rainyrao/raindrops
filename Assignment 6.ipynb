{
  "cells": [
    {
      "cell_type": "markdown",
      "metadata": {
        "id": "7ywSRtNI4s5h"
      },
      "source": [
        "# 1.) Preprocess your data into scaled input variables and an output variable\n"
      ]
    },
    {
      "cell_type": "code",
      "execution_count": null,
      "metadata": {
        "id": "nsG1QV154GYZ"
      },
      "outputs": [],
      "source": [
        "import pandas as pd\n",
        "from google.colab import drive\n",
        "import matplotlib.pyplot as plt\n",
        "import numpy as np\n",
        "import datetime"
      ]
    },
    {
      "cell_type": "code",
      "execution_count": null,
      "metadata": {
        "colab": {
          "base_uri": "https://localhost:8080/"
        },
        "id": "Iku0T8Ou4Lcu",
        "outputId": "6c176c98-6f0d-48f9-ee2c-429135317479"
      },
      "outputs": [
        {
          "output_type": "stream",
          "name": "stdout",
          "text": [
            "Mounted at /content/gdrive/\n"
          ]
        }
      ],
      "source": [
        "drive.mount('/content/gdrive/', force_remount = True)"
      ]
    },
    {
      "cell_type": "code",
      "execution_count": null,
      "metadata": {
        "colab": {
          "base_uri": "https://localhost:8080/",
          "height": 322
        },
        "id": "Q7XmCWs_rULl",
        "outputId": "b0d5f4c5-e312-424e-83b8-c2fc60de2684"
      },
      "outputs": [
        {
          "output_type": "execute_result",
          "data": {
            "text/plain": [
              "   Unnamed: 0  Customer Lifetime Value  Income  Number of Policies  \\\n",
              "0           0              2763.519279   56274                   1   \n",
              "1           1              6979.535903       0                   8   \n",
              "2           2             12887.431650   48767                   2   \n",
              "3           3              7645.861827       0                   7   \n",
              "4           4              2813.692575   43836                   1   \n",
              "\n",
              "   Total Claim Amount  Months Since Last Claim  Vehicle Size_Large  \\\n",
              "0          384.811147                       32                   0   \n",
              "1         1131.464935                       13                   0   \n",
              "2          566.472247                       18                   0   \n",
              "3          529.881344                       18                   0   \n",
              "4          138.130879                       12                   0   \n",
              "\n",
              "   Vehicle Size_Medsize  Gender_M  EmploymentStatus_Employed  \\\n",
              "0                     1         0                          1   \n",
              "1                     1         0                          0   \n",
              "2                     1         0                          1   \n",
              "3                     1         1                          0   \n",
              "4                     1         1                          1   \n",
              "\n",
              "   EmploymentStatus_Medical Leave  EmploymentStatus_Retired  \\\n",
              "0                               0                         0   \n",
              "1                               0                         0   \n",
              "2                               0                         0   \n",
              "3                               0                         0   \n",
              "4                               0                         0   \n",
              "\n",
              "   EmploymentStatus_Unemployed  Policy Type_Corporate Auto  \\\n",
              "0                            0                           1   \n",
              "1                            1                           0   \n",
              "2                            0                           0   \n",
              "3                            1                           1   \n",
              "4                            0                           0   \n",
              "\n",
              "   Policy Type_Personal Auto  Marital Status_Divorced  Marital Status_Married  \\\n",
              "0                          0                        0                       1   \n",
              "1                          1                        0                       0   \n",
              "2                          1                        0                       1   \n",
              "3                          0                        0                       1   \n",
              "4                          1                        0                       0   \n",
              "\n",
              "   Marital Status_Single  \n",
              "0                      0  \n",
              "1                      1  \n",
              "2                      0  \n",
              "3                      0  \n",
              "4                      1  "
            ],
            "text/html": [
              "\n",
              "  <div id=\"df-175ad33c-6556-4183-b2f7-08f5b5a0baa9\">\n",
              "    <div class=\"colab-df-container\">\n",
              "      <div>\n",
              "<style scoped>\n",
              "    .dataframe tbody tr th:only-of-type {\n",
              "        vertical-align: middle;\n",
              "    }\n",
              "\n",
              "    .dataframe tbody tr th {\n",
              "        vertical-align: top;\n",
              "    }\n",
              "\n",
              "    .dataframe thead th {\n",
              "        text-align: right;\n",
              "    }\n",
              "</style>\n",
              "<table border=\"1\" class=\"dataframe\">\n",
              "  <thead>\n",
              "    <tr style=\"text-align: right;\">\n",
              "      <th></th>\n",
              "      <th>Unnamed: 0</th>\n",
              "      <th>Customer Lifetime Value</th>\n",
              "      <th>Income</th>\n",
              "      <th>Number of Policies</th>\n",
              "      <th>Total Claim Amount</th>\n",
              "      <th>Months Since Last Claim</th>\n",
              "      <th>Vehicle Size_Large</th>\n",
              "      <th>Vehicle Size_Medsize</th>\n",
              "      <th>Gender_M</th>\n",
              "      <th>EmploymentStatus_Employed</th>\n",
              "      <th>EmploymentStatus_Medical Leave</th>\n",
              "      <th>EmploymentStatus_Retired</th>\n",
              "      <th>EmploymentStatus_Unemployed</th>\n",
              "      <th>Policy Type_Corporate Auto</th>\n",
              "      <th>Policy Type_Personal Auto</th>\n",
              "      <th>Marital Status_Divorced</th>\n",
              "      <th>Marital Status_Married</th>\n",
              "      <th>Marital Status_Single</th>\n",
              "    </tr>\n",
              "  </thead>\n",
              "  <tbody>\n",
              "    <tr>\n",
              "      <th>0</th>\n",
              "      <td>0</td>\n",
              "      <td>2763.519279</td>\n",
              "      <td>56274</td>\n",
              "      <td>1</td>\n",
              "      <td>384.811147</td>\n",
              "      <td>32</td>\n",
              "      <td>0</td>\n",
              "      <td>1</td>\n",
              "      <td>0</td>\n",
              "      <td>1</td>\n",
              "      <td>0</td>\n",
              "      <td>0</td>\n",
              "      <td>0</td>\n",
              "      <td>1</td>\n",
              "      <td>0</td>\n",
              "      <td>0</td>\n",
              "      <td>1</td>\n",
              "      <td>0</td>\n",
              "    </tr>\n",
              "    <tr>\n",
              "      <th>1</th>\n",
              "      <td>1</td>\n",
              "      <td>6979.535903</td>\n",
              "      <td>0</td>\n",
              "      <td>8</td>\n",
              "      <td>1131.464935</td>\n",
              "      <td>13</td>\n",
              "      <td>0</td>\n",
              "      <td>1</td>\n",
              "      <td>0</td>\n",
              "      <td>0</td>\n",
              "      <td>0</td>\n",
              "      <td>0</td>\n",
              "      <td>1</td>\n",
              "      <td>0</td>\n",
              "      <td>1</td>\n",
              "      <td>0</td>\n",
              "      <td>0</td>\n",
              "      <td>1</td>\n",
              "    </tr>\n",
              "    <tr>\n",
              "      <th>2</th>\n",
              "      <td>2</td>\n",
              "      <td>12887.431650</td>\n",
              "      <td>48767</td>\n",
              "      <td>2</td>\n",
              "      <td>566.472247</td>\n",
              "      <td>18</td>\n",
              "      <td>0</td>\n",
              "      <td>1</td>\n",
              "      <td>0</td>\n",
              "      <td>1</td>\n",
              "      <td>0</td>\n",
              "      <td>0</td>\n",
              "      <td>0</td>\n",
              "      <td>0</td>\n",
              "      <td>1</td>\n",
              "      <td>0</td>\n",
              "      <td>1</td>\n",
              "      <td>0</td>\n",
              "    </tr>\n",
              "    <tr>\n",
              "      <th>3</th>\n",
              "      <td>3</td>\n",
              "      <td>7645.861827</td>\n",
              "      <td>0</td>\n",
              "      <td>7</td>\n",
              "      <td>529.881344</td>\n",
              "      <td>18</td>\n",
              "      <td>0</td>\n",
              "      <td>1</td>\n",
              "      <td>1</td>\n",
              "      <td>0</td>\n",
              "      <td>0</td>\n",
              "      <td>0</td>\n",
              "      <td>1</td>\n",
              "      <td>1</td>\n",
              "      <td>0</td>\n",
              "      <td>0</td>\n",
              "      <td>1</td>\n",
              "      <td>0</td>\n",
              "    </tr>\n",
              "    <tr>\n",
              "      <th>4</th>\n",
              "      <td>4</td>\n",
              "      <td>2813.692575</td>\n",
              "      <td>43836</td>\n",
              "      <td>1</td>\n",
              "      <td>138.130879</td>\n",
              "      <td>12</td>\n",
              "      <td>0</td>\n",
              "      <td>1</td>\n",
              "      <td>1</td>\n",
              "      <td>1</td>\n",
              "      <td>0</td>\n",
              "      <td>0</td>\n",
              "      <td>0</td>\n",
              "      <td>0</td>\n",
              "      <td>1</td>\n",
              "      <td>0</td>\n",
              "      <td>0</td>\n",
              "      <td>1</td>\n",
              "    </tr>\n",
              "  </tbody>\n",
              "</table>\n",
              "</div>\n",
              "      <button class=\"colab-df-convert\" onclick=\"convertToInteractive('df-175ad33c-6556-4183-b2f7-08f5b5a0baa9')\"\n",
              "              title=\"Convert this dataframe to an interactive table.\"\n",
              "              style=\"display:none;\">\n",
              "        \n",
              "  <svg xmlns=\"http://www.w3.org/2000/svg\" height=\"24px\"viewBox=\"0 0 24 24\"\n",
              "       width=\"24px\">\n",
              "    <path d=\"M0 0h24v24H0V0z\" fill=\"none\"/>\n",
              "    <path d=\"M18.56 5.44l.94 2.06.94-2.06 2.06-.94-2.06-.94-.94-2.06-.94 2.06-2.06.94zm-11 1L8.5 8.5l.94-2.06 2.06-.94-2.06-.94L8.5 2.5l-.94 2.06-2.06.94zm10 10l.94 2.06.94-2.06 2.06-.94-2.06-.94-.94-2.06-.94 2.06-2.06.94z\"/><path d=\"M17.41 7.96l-1.37-1.37c-.4-.4-.92-.59-1.43-.59-.52 0-1.04.2-1.43.59L10.3 9.45l-7.72 7.72c-.78.78-.78 2.05 0 2.83L4 21.41c.39.39.9.59 1.41.59.51 0 1.02-.2 1.41-.59l7.78-7.78 2.81-2.81c.8-.78.8-2.07 0-2.86zM5.41 20L4 18.59l7.72-7.72 1.47 1.35L5.41 20z\"/>\n",
              "  </svg>\n",
              "      </button>\n",
              "      \n",
              "  <style>\n",
              "    .colab-df-container {\n",
              "      display:flex;\n",
              "      flex-wrap:wrap;\n",
              "      gap: 12px;\n",
              "    }\n",
              "\n",
              "    .colab-df-convert {\n",
              "      background-color: #E8F0FE;\n",
              "      border: none;\n",
              "      border-radius: 50%;\n",
              "      cursor: pointer;\n",
              "      display: none;\n",
              "      fill: #1967D2;\n",
              "      height: 32px;\n",
              "      padding: 0 0 0 0;\n",
              "      width: 32px;\n",
              "    }\n",
              "\n",
              "    .colab-df-convert:hover {\n",
              "      background-color: #E2EBFA;\n",
              "      box-shadow: 0px 1px 2px rgba(60, 64, 67, 0.3), 0px 1px 3px 1px rgba(60, 64, 67, 0.15);\n",
              "      fill: #174EA6;\n",
              "    }\n",
              "\n",
              "    [theme=dark] .colab-df-convert {\n",
              "      background-color: #3B4455;\n",
              "      fill: #D2E3FC;\n",
              "    }\n",
              "\n",
              "    [theme=dark] .colab-df-convert:hover {\n",
              "      background-color: #434B5C;\n",
              "      box-shadow: 0px 1px 3px 1px rgba(0, 0, 0, 0.15);\n",
              "      filter: drop-shadow(0px 1px 2px rgba(0, 0, 0, 0.3));\n",
              "      fill: #FFFFFF;\n",
              "    }\n",
              "  </style>\n",
              "\n",
              "      <script>\n",
              "        const buttonEl =\n",
              "          document.querySelector('#df-175ad33c-6556-4183-b2f7-08f5b5a0baa9 button.colab-df-convert');\n",
              "        buttonEl.style.display =\n",
              "          google.colab.kernel.accessAllowed ? 'block' : 'none';\n",
              "\n",
              "        async function convertToInteractive(key) {\n",
              "          const element = document.querySelector('#df-175ad33c-6556-4183-b2f7-08f5b5a0baa9');\n",
              "          const dataTable =\n",
              "            await google.colab.kernel.invokeFunction('convertToInteractive',\n",
              "                                                     [key], {});\n",
              "          if (!dataTable) return;\n",
              "\n",
              "          const docLinkHtml = 'Like what you see? Visit the ' +\n",
              "            '<a target=\"_blank\" href=https://colab.research.google.com/notebooks/data_table.ipynb>data table notebook</a>'\n",
              "            + ' to learn more about interactive tables.';\n",
              "          element.innerHTML = '';\n",
              "          dataTable['output_type'] = 'display_data';\n",
              "          await google.colab.output.renderOutput(dataTable, element);\n",
              "          const docLink = document.createElement('div');\n",
              "          docLink.innerHTML = docLinkHtml;\n",
              "          element.appendChild(docLink);\n",
              "        }\n",
              "      </script>\n",
              "    </div>\n",
              "  </div>\n",
              "  "
            ]
          },
          "metadata": {},
          "execution_count": 29
        }
      ],
      "source": [
        "df = pd.read_csv(\"/content/gdrive/MyDrive/CLV.csv\")\n",
        "df.head()"
      ]
    },
    {
      "cell_type": "code",
      "execution_count": null,
      "metadata": {
        "id": "faVHwgfRXxXc"
      },
      "outputs": [],
      "source": [
        "X = df.drop([\"Unnamed: 0\",\"Customer Lifetime Value\"], axis =1 )\n",
        "y = df['Customer Lifetime Value']"
      ]
    },
    {
      "cell_type": "code",
      "execution_count": null,
      "metadata": {
        "id": "eGe1pSlFYhZp"
      },
      "outputs": [],
      "source": [
        "from sklearn.model_selection import train_test_split\n",
        "X_train, X_test, y_train, y_test = train_test_split(X, y, test_size = .3)"
      ]
    },
    {
      "cell_type": "code",
      "execution_count": null,
      "metadata": {
        "id": "tSfnfoVPY0mu"
      },
      "outputs": [],
      "source": [
        "from sklearn.preprocessing import StandardScaler"
      ]
    },
    {
      "cell_type": "code",
      "execution_count": null,
      "metadata": {
        "id": "9hfSckvYW4NN"
      },
      "outputs": [],
      "source": [
        "scaler = StandardScaler()\n",
        "X_train = scaler.fit_transform(X_train)\n",
        "X_test = scaler.transform(X_test)"
      ]
    },
    {
      "cell_type": "markdown",
      "metadata": {
        "id": "OacsID8kTRvk"
      },
      "source": [
        "# 2.) Run a GridSearch CV on at least 10 possible combinations of hyper parameters "
      ]
    },
    {
      "cell_type": "code",
      "execution_count": null,
      "metadata": {
        "id": "dk0D7awWc3Cm"
      },
      "outputs": [],
      "source": [
        "from sklearn.neural_network import MLPRegressor\n",
        "from sklearn.metrics import mean_squared_error, r2_score\n",
        "from sklearn.model_selection import GridSearchCV"
      ]
    },
    {
      "cell_type": "code",
      "execution_count": null,
      "metadata": {
        "id": "8WKQg4bxTq1-"
      },
      "outputs": [],
      "source": [
        "clf=MLPRegressor()"
      ]
    },
    {
      "cell_type": "code",
      "execution_count": null,
      "metadata": {
        "id": "-LzfXJq7cwkF"
      },
      "outputs": [],
      "source": [
        "params={\n",
        "    \"hidden_layer_sizes\": [(10,),(5,20),(10,100,10,)],\n",
        "    \"activation\": [\"relu\",\"tanh\"],\n",
        "    \"alpha\": [0.0001,0.001,0.01]\n",
        "}"
      ]
    },
    {
      "cell_type": "code",
      "execution_count": null,
      "metadata": {
        "colab": {
          "base_uri": "https://localhost:8080/"
        },
        "id": "7n4F6kC5Tq5J",
        "outputId": "bde10e8a-28ce-45dd-d7e0-af1ae81947aa"
      },
      "outputs": [
        {
          "output_type": "stream",
          "name": "stderr",
          "text": [
            "/usr/local/lib/python3.8/dist-packages/sklearn/neural_network/_multilayer_perceptron.py:692: ConvergenceWarning: Stochastic Optimizer: Maximum iterations (200) reached and the optimization hasn't converged yet.\n",
            "  warnings.warn(\n",
            "/usr/local/lib/python3.8/dist-packages/sklearn/neural_network/_multilayer_perceptron.py:692: ConvergenceWarning: Stochastic Optimizer: Maximum iterations (200) reached and the optimization hasn't converged yet.\n",
            "  warnings.warn(\n",
            "/usr/local/lib/python3.8/dist-packages/sklearn/neural_network/_multilayer_perceptron.py:692: ConvergenceWarning: Stochastic Optimizer: Maximum iterations (200) reached and the optimization hasn't converged yet.\n",
            "  warnings.warn(\n",
            "/usr/local/lib/python3.8/dist-packages/sklearn/neural_network/_multilayer_perceptron.py:692: ConvergenceWarning: Stochastic Optimizer: Maximum iterations (200) reached and the optimization hasn't converged yet.\n",
            "  warnings.warn(\n",
            "/usr/local/lib/python3.8/dist-packages/sklearn/neural_network/_multilayer_perceptron.py:692: ConvergenceWarning: Stochastic Optimizer: Maximum iterations (200) reached and the optimization hasn't converged yet.\n",
            "  warnings.warn(\n",
            "/usr/local/lib/python3.8/dist-packages/sklearn/neural_network/_multilayer_perceptron.py:692: ConvergenceWarning: Stochastic Optimizer: Maximum iterations (200) reached and the optimization hasn't converged yet.\n",
            "  warnings.warn(\n",
            "/usr/local/lib/python3.8/dist-packages/sklearn/neural_network/_multilayer_perceptron.py:692: ConvergenceWarning: Stochastic Optimizer: Maximum iterations (200) reached and the optimization hasn't converged yet.\n",
            "  warnings.warn(\n",
            "/usr/local/lib/python3.8/dist-packages/sklearn/neural_network/_multilayer_perceptron.py:692: ConvergenceWarning: Stochastic Optimizer: Maximum iterations (200) reached and the optimization hasn't converged yet.\n",
            "  warnings.warn(\n",
            "/usr/local/lib/python3.8/dist-packages/sklearn/neural_network/_multilayer_perceptron.py:692: ConvergenceWarning: Stochastic Optimizer: Maximum iterations (200) reached and the optimization hasn't converged yet.\n",
            "  warnings.warn(\n",
            "/usr/local/lib/python3.8/dist-packages/sklearn/neural_network/_multilayer_perceptron.py:692: ConvergenceWarning: Stochastic Optimizer: Maximum iterations (200) reached and the optimization hasn't converged yet.\n",
            "  warnings.warn(\n",
            "/usr/local/lib/python3.8/dist-packages/sklearn/neural_network/_multilayer_perceptron.py:692: ConvergenceWarning: Stochastic Optimizer: Maximum iterations (200) reached and the optimization hasn't converged yet.\n",
            "  warnings.warn(\n",
            "/usr/local/lib/python3.8/dist-packages/sklearn/neural_network/_multilayer_perceptron.py:692: ConvergenceWarning: Stochastic Optimizer: Maximum iterations (200) reached and the optimization hasn't converged yet.\n",
            "  warnings.warn(\n",
            "/usr/local/lib/python3.8/dist-packages/sklearn/neural_network/_multilayer_perceptron.py:692: ConvergenceWarning: Stochastic Optimizer: Maximum iterations (200) reached and the optimization hasn't converged yet.\n",
            "  warnings.warn(\n",
            "/usr/local/lib/python3.8/dist-packages/sklearn/neural_network/_multilayer_perceptron.py:692: ConvergenceWarning: Stochastic Optimizer: Maximum iterations (200) reached and the optimization hasn't converged yet.\n",
            "  warnings.warn(\n",
            "/usr/local/lib/python3.8/dist-packages/sklearn/neural_network/_multilayer_perceptron.py:692: ConvergenceWarning: Stochastic Optimizer: Maximum iterations (200) reached and the optimization hasn't converged yet.\n",
            "  warnings.warn(\n",
            "/usr/local/lib/python3.8/dist-packages/sklearn/neural_network/_multilayer_perceptron.py:692: ConvergenceWarning: Stochastic Optimizer: Maximum iterations (200) reached and the optimization hasn't converged yet.\n",
            "  warnings.warn(\n",
            "/usr/local/lib/python3.8/dist-packages/sklearn/neural_network/_multilayer_perceptron.py:692: ConvergenceWarning: Stochastic Optimizer: Maximum iterations (200) reached and the optimization hasn't converged yet.\n",
            "  warnings.warn(\n",
            "/usr/local/lib/python3.8/dist-packages/sklearn/neural_network/_multilayer_perceptron.py:692: ConvergenceWarning: Stochastic Optimizer: Maximum iterations (200) reached and the optimization hasn't converged yet.\n",
            "  warnings.warn(\n",
            "/usr/local/lib/python3.8/dist-packages/sklearn/neural_network/_multilayer_perceptron.py:692: ConvergenceWarning: Stochastic Optimizer: Maximum iterations (200) reached and the optimization hasn't converged yet.\n",
            "  warnings.warn(\n",
            "/usr/local/lib/python3.8/dist-packages/sklearn/neural_network/_multilayer_perceptron.py:692: ConvergenceWarning: Stochastic Optimizer: Maximum iterations (200) reached and the optimization hasn't converged yet.\n",
            "  warnings.warn(\n",
            "/usr/local/lib/python3.8/dist-packages/sklearn/neural_network/_multilayer_perceptron.py:692: ConvergenceWarning: Stochastic Optimizer: Maximum iterations (200) reached and the optimization hasn't converged yet.\n",
            "  warnings.warn(\n",
            "/usr/local/lib/python3.8/dist-packages/sklearn/neural_network/_multilayer_perceptron.py:692: ConvergenceWarning: Stochastic Optimizer: Maximum iterations (200) reached and the optimization hasn't converged yet.\n",
            "  warnings.warn(\n",
            "/usr/local/lib/python3.8/dist-packages/sklearn/neural_network/_multilayer_perceptron.py:692: ConvergenceWarning: Stochastic Optimizer: Maximum iterations (200) reached and the optimization hasn't converged yet.\n",
            "  warnings.warn(\n",
            "/usr/local/lib/python3.8/dist-packages/sklearn/neural_network/_multilayer_perceptron.py:692: ConvergenceWarning: Stochastic Optimizer: Maximum iterations (200) reached and the optimization hasn't converged yet.\n",
            "  warnings.warn(\n",
            "/usr/local/lib/python3.8/dist-packages/sklearn/neural_network/_multilayer_perceptron.py:692: ConvergenceWarning: Stochastic Optimizer: Maximum iterations (200) reached and the optimization hasn't converged yet.\n",
            "  warnings.warn(\n",
            "/usr/local/lib/python3.8/dist-packages/sklearn/neural_network/_multilayer_perceptron.py:692: ConvergenceWarning: Stochastic Optimizer: Maximum iterations (200) reached and the optimization hasn't converged yet.\n",
            "  warnings.warn(\n",
            "/usr/local/lib/python3.8/dist-packages/sklearn/neural_network/_multilayer_perceptron.py:692: ConvergenceWarning: Stochastic Optimizer: Maximum iterations (200) reached and the optimization hasn't converged yet.\n",
            "  warnings.warn(\n",
            "/usr/local/lib/python3.8/dist-packages/sklearn/neural_network/_multilayer_perceptron.py:692: ConvergenceWarning: Stochastic Optimizer: Maximum iterations (200) reached and the optimization hasn't converged yet.\n",
            "  warnings.warn(\n",
            "/usr/local/lib/python3.8/dist-packages/sklearn/neural_network/_multilayer_perceptron.py:692: ConvergenceWarning: Stochastic Optimizer: Maximum iterations (200) reached and the optimization hasn't converged yet.\n",
            "  warnings.warn(\n",
            "/usr/local/lib/python3.8/dist-packages/sklearn/neural_network/_multilayer_perceptron.py:692: ConvergenceWarning: Stochastic Optimizer: Maximum iterations (200) reached and the optimization hasn't converged yet.\n",
            "  warnings.warn(\n",
            "/usr/local/lib/python3.8/dist-packages/sklearn/neural_network/_multilayer_perceptron.py:692: ConvergenceWarning: Stochastic Optimizer: Maximum iterations (200) reached and the optimization hasn't converged yet.\n",
            "  warnings.warn(\n",
            "/usr/local/lib/python3.8/dist-packages/sklearn/neural_network/_multilayer_perceptron.py:692: ConvergenceWarning: Stochastic Optimizer: Maximum iterations (200) reached and the optimization hasn't converged yet.\n",
            "  warnings.warn(\n",
            "/usr/local/lib/python3.8/dist-packages/sklearn/neural_network/_multilayer_perceptron.py:692: ConvergenceWarning: Stochastic Optimizer: Maximum iterations (200) reached and the optimization hasn't converged yet.\n",
            "  warnings.warn(\n",
            "/usr/local/lib/python3.8/dist-packages/sklearn/neural_network/_multilayer_perceptron.py:692: ConvergenceWarning: Stochastic Optimizer: Maximum iterations (200) reached and the optimization hasn't converged yet.\n",
            "  warnings.warn(\n",
            "/usr/local/lib/python3.8/dist-packages/sklearn/neural_network/_multilayer_perceptron.py:692: ConvergenceWarning: Stochastic Optimizer: Maximum iterations (200) reached and the optimization hasn't converged yet.\n",
            "  warnings.warn(\n",
            "/usr/local/lib/python3.8/dist-packages/sklearn/neural_network/_multilayer_perceptron.py:692: ConvergenceWarning: Stochastic Optimizer: Maximum iterations (200) reached and the optimization hasn't converged yet.\n",
            "  warnings.warn(\n",
            "/usr/local/lib/python3.8/dist-packages/sklearn/neural_network/_multilayer_perceptron.py:692: ConvergenceWarning: Stochastic Optimizer: Maximum iterations (200) reached and the optimization hasn't converged yet.\n",
            "  warnings.warn(\n",
            "/usr/local/lib/python3.8/dist-packages/sklearn/neural_network/_multilayer_perceptron.py:692: ConvergenceWarning: Stochastic Optimizer: Maximum iterations (200) reached and the optimization hasn't converged yet.\n",
            "  warnings.warn(\n",
            "/usr/local/lib/python3.8/dist-packages/sklearn/neural_network/_multilayer_perceptron.py:692: ConvergenceWarning: Stochastic Optimizer: Maximum iterations (200) reached and the optimization hasn't converged yet.\n",
            "  warnings.warn(\n",
            "/usr/local/lib/python3.8/dist-packages/sklearn/neural_network/_multilayer_perceptron.py:692: ConvergenceWarning: Stochastic Optimizer: Maximum iterations (200) reached and the optimization hasn't converged yet.\n",
            "  warnings.warn(\n",
            "/usr/local/lib/python3.8/dist-packages/sklearn/neural_network/_multilayer_perceptron.py:692: ConvergenceWarning: Stochastic Optimizer: Maximum iterations (200) reached and the optimization hasn't converged yet.\n",
            "  warnings.warn(\n",
            "/usr/local/lib/python3.8/dist-packages/sklearn/neural_network/_multilayer_perceptron.py:692: ConvergenceWarning: Stochastic Optimizer: Maximum iterations (200) reached and the optimization hasn't converged yet.\n",
            "  warnings.warn(\n",
            "/usr/local/lib/python3.8/dist-packages/sklearn/neural_network/_multilayer_perceptron.py:692: ConvergenceWarning: Stochastic Optimizer: Maximum iterations (200) reached and the optimization hasn't converged yet.\n",
            "  warnings.warn(\n",
            "/usr/local/lib/python3.8/dist-packages/sklearn/neural_network/_multilayer_perceptron.py:692: ConvergenceWarning: Stochastic Optimizer: Maximum iterations (200) reached and the optimization hasn't converged yet.\n",
            "  warnings.warn(\n",
            "/usr/local/lib/python3.8/dist-packages/sklearn/neural_network/_multilayer_perceptron.py:692: ConvergenceWarning: Stochastic Optimizer: Maximum iterations (200) reached and the optimization hasn't converged yet.\n",
            "  warnings.warn(\n",
            "/usr/local/lib/python3.8/dist-packages/sklearn/neural_network/_multilayer_perceptron.py:692: ConvergenceWarning: Stochastic Optimizer: Maximum iterations (200) reached and the optimization hasn't converged yet.\n",
            "  warnings.warn(\n"
          ]
        },
        {
          "output_type": "execute_result",
          "data": {
            "text/plain": [
              "GridSearchCV(cv=5, estimator=MLPRegressor(),\n",
              "             param_grid={'activation': ['relu', 'tanh'],\n",
              "                         'alpha': [0.0001, 0.001, 0.01],\n",
              "                         'hidden_layer_sizes': [(10,), (5, 20), (10, 100, 10)]})"
            ]
          },
          "metadata": {},
          "execution_count": 38
        }
      ],
      "source": [
        "grid=GridSearchCV(clf,params,cv=5)\n",
        "grid.fit(X_train,y_train)"
      ]
    },
    {
      "cell_type": "code",
      "execution_count": null,
      "metadata": {
        "colab": {
          "base_uri": "https://localhost:8080/"
        },
        "id": "2fEhkTmqjQyO",
        "outputId": "0d423563-3afd-4d47-8c71-b6eb156f10ca"
      },
      "outputs": [
        {
          "output_type": "stream",
          "name": "stdout",
          "text": [
            "{'activation': 'relu', 'alpha': 0.001, 'hidden_layer_sizes': (5, 20)}\n",
            "0.04557396686192612\n"
          ]
        }
      ],
      "source": [
        "print(grid.best_params_)\n",
        "print(grid.best_score_)"
      ]
    },
    {
      "cell_type": "markdown",
      "metadata": {
        "id": "DKNdxiyOTsOE"
      },
      "source": [
        "# 3.) Train a model with the optimal solution from GridSearch"
      ]
    },
    {
      "cell_type": "code",
      "execution_count": null,
      "metadata": {
        "id": "sfbnPTe5Tq_9",
        "colab": {
          "base_uri": "https://localhost:8080/"
        },
        "outputId": "253c0af9-4873-4392-8fdc-5d8b1bb06419"
      },
      "outputs": [
        {
          "output_type": "execute_result",
          "data": {
            "text/plain": [
              "MLPRegressor(alpha=0.001, hidden_layer_sizes=(5, 20))"
            ]
          },
          "metadata": {},
          "execution_count": 48
        }
      ],
      "source": [
        "reg=MLPRegressor(**grid.best_params_)\n",
        "reg.fit(X_train,y_train)"
      ]
    },
    {
      "cell_type": "markdown",
      "metadata": {
        "id": "qTPkbSDwT0nO"
      },
      "source": [
        "# 4.) What are the in-sample and out of sample MSEs"
      ]
    },
    {
      "cell_type": "code",
      "execution_count": null,
      "metadata": {
        "id": "2KuP_O-uJFg0"
      },
      "outputs": [],
      "source": [
        "y_train_pred = reg.predict(X_train)\n",
        "y_test_pred = reg.predict(X_test)"
      ]
    },
    {
      "cell_type": "code",
      "execution_count": null,
      "metadata": {
        "id": "RjTa3ShN_edU",
        "colab": {
          "base_uri": "https://localhost:8080/"
        },
        "outputId": "89b284aa-d6a4-4490-f2ec-a85042aba6d6"
      },
      "outputs": [
        {
          "output_type": "stream",
          "name": "stdout",
          "text": [
            "In-sample MSE: 46051862.30\n",
            "Out-of-sample MSE: 46066475.06\n"
          ]
        }
      ],
      "source": [
        "train_mse = mean_squared_error(y_train, y_train_pred)\n",
        "test_mse = mean_squared_error(y_test, y_test_pred)\n",
        "\n",
        "print('In-sample MSE: %.2f' % train_mse)\n",
        "print('Out-of-sample MSE: %.2f' % test_mse)"
      ]
    },
    {
      "cell_type": "markdown",
      "metadata": {
        "id": "YVQ1PvBK_ev0"
      },
      "source": [
        "# 5.) Build a Keras with the architecture defined by GridSearchCV"
      ]
    },
    {
      "cell_type": "code",
      "execution_count": null,
      "metadata": {
        "id": "dzqvY-1Vfd3v"
      },
      "outputs": [],
      "source": [
        "import keras.models\n",
        "from keras.models import Sequential\n",
        "from keras.layers import Dense\n",
        "from keras.regularizers import l2"
      ]
    },
    {
      "cell_type": "code",
      "execution_count": 67,
      "metadata": {
        "id": "REnA8g8VOexH"
      },
      "outputs": [],
      "source": [
        "hidden_layer_sizes = (5,20)\n",
        "alpha = 0.001\n",
        "activation = 'relu'\n",
        "\n",
        "# Build the model\n",
        "model = Sequential()\n",
        "model.add(Dense(hidden_layer_sizes[0], input_dim=X_train.shape[1], activation=activation, kernel_regularizer=l2(alpha)))\n",
        "for layer_size in hidden_layer_sizes[1:]:\n",
        "    model.add(Dense(layer_size, activation=activation, kernel_regularizer=l2(alpha)))\n",
        "model.add(Dense(1, activation='sigmoid'))\n",
        "\n",
        "# Compile the model\n",
        "model.compile(loss='mse', optimizer='adam', metrics=['accuracy'])"
      ]
    },
    {
      "cell_type": "code",
      "execution_count": 68,
      "metadata": {
        "id": "cIru4hD8Oezl",
        "colab": {
          "base_uri": "https://localhost:8080/"
        },
        "outputId": "2312d1b6-6f81-45d5-b0e6-dc6403da264d"
      },
      "outputs": [
        {
          "output_type": "stream",
          "name": "stdout",
          "text": [
            "Epoch 1/100\n",
            "200/200 [==============================] - 1s 2ms/step - loss: 112919736.0000 - accuracy: 0.0000e+00\n",
            "Epoch 2/100\n",
            "200/200 [==============================] - 0s 2ms/step - loss: 112916080.0000 - accuracy: 0.0000e+00\n",
            "Epoch 3/100\n",
            "200/200 [==============================] - 0s 2ms/step - loss: 112905200.0000 - accuracy: 0.0000e+00\n",
            "Epoch 4/100\n",
            "200/200 [==============================] - 0s 2ms/step - loss: 112905192.0000 - accuracy: 0.0000e+00\n",
            "Epoch 5/100\n",
            "200/200 [==============================] - 0s 2ms/step - loss: 112905232.0000 - accuracy: 0.0000e+00\n",
            "Epoch 6/100\n",
            "200/200 [==============================] - 0s 2ms/step - loss: 112905232.0000 - accuracy: 0.0000e+00\n",
            "Epoch 7/100\n",
            "200/200 [==============================] - 0s 2ms/step - loss: 112905208.0000 - accuracy: 0.0000e+00\n",
            "Epoch 8/100\n",
            "200/200 [==============================] - 0s 2ms/step - loss: 112905232.0000 - accuracy: 0.0000e+00\n",
            "Epoch 9/100\n",
            "200/200 [==============================] - 0s 2ms/step - loss: 112905240.0000 - accuracy: 0.0000e+00\n",
            "Epoch 10/100\n",
            "200/200 [==============================] - 0s 2ms/step - loss: 112905224.0000 - accuracy: 0.0000e+00\n",
            "Epoch 11/100\n",
            "200/200 [==============================] - 0s 2ms/step - loss: 112905224.0000 - accuracy: 0.0000e+00\n",
            "Epoch 12/100\n",
            "200/200 [==============================] - 0s 2ms/step - loss: 112905280.0000 - accuracy: 0.0000e+00\n",
            "Epoch 13/100\n",
            "200/200 [==============================] - 0s 2ms/step - loss: 112905152.0000 - accuracy: 0.0000e+00\n",
            "Epoch 14/100\n",
            "200/200 [==============================] - 0s 2ms/step - loss: 112905256.0000 - accuracy: 0.0000e+00\n",
            "Epoch 15/100\n",
            "200/200 [==============================] - 0s 2ms/step - loss: 112905200.0000 - accuracy: 0.0000e+00\n",
            "Epoch 16/100\n",
            "200/200 [==============================] - 0s 2ms/step - loss: 112905240.0000 - accuracy: 0.0000e+00\n",
            "Epoch 17/100\n",
            "200/200 [==============================] - 0s 2ms/step - loss: 112905256.0000 - accuracy: 0.0000e+00\n",
            "Epoch 18/100\n",
            "200/200 [==============================] - 0s 2ms/step - loss: 112905192.0000 - accuracy: 0.0000e+00\n",
            "Epoch 19/100\n",
            "200/200 [==============================] - 0s 2ms/step - loss: 112905232.0000 - accuracy: 0.0000e+00\n",
            "Epoch 20/100\n",
            "200/200 [==============================] - 0s 2ms/step - loss: 112905208.0000 - accuracy: 0.0000e+00\n",
            "Epoch 21/100\n",
            "200/200 [==============================] - 0s 2ms/step - loss: 112905240.0000 - accuracy: 0.0000e+00\n",
            "Epoch 22/100\n",
            "200/200 [==============================] - 1s 3ms/step - loss: 112905224.0000 - accuracy: 0.0000e+00\n",
            "Epoch 23/100\n",
            "200/200 [==============================] - 1s 3ms/step - loss: 112905232.0000 - accuracy: 0.0000e+00\n",
            "Epoch 24/100\n",
            "200/200 [==============================] - 1s 3ms/step - loss: 112905224.0000 - accuracy: 0.0000e+00\n",
            "Epoch 25/100\n",
            "200/200 [==============================] - 1s 3ms/step - loss: 112905200.0000 - accuracy: 0.0000e+00\n",
            "Epoch 26/100\n",
            "200/200 [==============================] - 1s 3ms/step - loss: 112905208.0000 - accuracy: 0.0000e+00\n",
            "Epoch 27/100\n",
            "200/200 [==============================] - 1s 3ms/step - loss: 112905232.0000 - accuracy: 0.0000e+00\n",
            "Epoch 28/100\n",
            "200/200 [==============================] - 1s 3ms/step - loss: 112905256.0000 - accuracy: 0.0000e+00\n",
            "Epoch 29/100\n",
            "200/200 [==============================] - 1s 3ms/step - loss: 112905232.0000 - accuracy: 0.0000e+00\n",
            "Epoch 30/100\n",
            "200/200 [==============================] - 0s 2ms/step - loss: 112905200.0000 - accuracy: 0.0000e+00\n",
            "Epoch 31/100\n",
            "200/200 [==============================] - 0s 2ms/step - loss: 112905280.0000 - accuracy: 0.0000e+00\n",
            "Epoch 32/100\n",
            "200/200 [==============================] - 0s 2ms/step - loss: 112905200.0000 - accuracy: 0.0000e+00\n",
            "Epoch 33/100\n",
            "200/200 [==============================] - 0s 2ms/step - loss: 112905224.0000 - accuracy: 0.0000e+00\n",
            "Epoch 34/100\n",
            "200/200 [==============================] - 0s 2ms/step - loss: 112905192.0000 - accuracy: 0.0000e+00\n",
            "Epoch 35/100\n",
            "200/200 [==============================] - 0s 2ms/step - loss: 112905240.0000 - accuracy: 0.0000e+00\n",
            "Epoch 36/100\n",
            "200/200 [==============================] - 0s 2ms/step - loss: 112905192.0000 - accuracy: 0.0000e+00\n",
            "Epoch 37/100\n",
            "200/200 [==============================] - 0s 2ms/step - loss: 112905200.0000 - accuracy: 0.0000e+00\n",
            "Epoch 38/100\n",
            "200/200 [==============================] - 0s 2ms/step - loss: 112905208.0000 - accuracy: 0.0000e+00\n",
            "Epoch 39/100\n",
            "200/200 [==============================] - 0s 2ms/step - loss: 112905280.0000 - accuracy: 0.0000e+00\n",
            "Epoch 40/100\n",
            "200/200 [==============================] - 0s 2ms/step - loss: 112905208.0000 - accuracy: 0.0000e+00\n",
            "Epoch 41/100\n",
            "200/200 [==============================] - 0s 2ms/step - loss: 112905256.0000 - accuracy: 0.0000e+00\n",
            "Epoch 42/100\n",
            "200/200 [==============================] - 0s 2ms/step - loss: 112905256.0000 - accuracy: 0.0000e+00\n",
            "Epoch 43/100\n",
            "200/200 [==============================] - 0s 2ms/step - loss: 112905208.0000 - accuracy: 0.0000e+00\n",
            "Epoch 44/100\n",
            "200/200 [==============================] - 0s 2ms/step - loss: 112905240.0000 - accuracy: 0.0000e+00\n",
            "Epoch 45/100\n",
            "200/200 [==============================] - 0s 2ms/step - loss: 112905264.0000 - accuracy: 0.0000e+00\n",
            "Epoch 46/100\n",
            "200/200 [==============================] - 0s 2ms/step - loss: 112905200.0000 - accuracy: 0.0000e+00\n",
            "Epoch 47/100\n",
            "200/200 [==============================] - 0s 2ms/step - loss: 112905240.0000 - accuracy: 0.0000e+00\n",
            "Epoch 48/100\n",
            "200/200 [==============================] - 0s 2ms/step - loss: 112905256.0000 - accuracy: 0.0000e+00\n",
            "Epoch 49/100\n",
            "200/200 [==============================] - 0s 2ms/step - loss: 112905240.0000 - accuracy: 0.0000e+00\n",
            "Epoch 50/100\n",
            "200/200 [==============================] - 0s 2ms/step - loss: 112905240.0000 - accuracy: 0.0000e+00\n",
            "Epoch 51/100\n",
            "200/200 [==============================] - 0s 2ms/step - loss: 112905264.0000 - accuracy: 0.0000e+00\n",
            "Epoch 52/100\n",
            "200/200 [==============================] - 0s 2ms/step - loss: 112905208.0000 - accuracy: 0.0000e+00\n",
            "Epoch 53/100\n",
            "200/200 [==============================] - 0s 2ms/step - loss: 112905224.0000 - accuracy: 0.0000e+00\n",
            "Epoch 54/100\n",
            "200/200 [==============================] - 1s 3ms/step - loss: 112905192.0000 - accuracy: 0.0000e+00\n",
            "Epoch 55/100\n",
            "200/200 [==============================] - 1s 3ms/step - loss: 112905240.0000 - accuracy: 0.0000e+00\n",
            "Epoch 56/100\n",
            "200/200 [==============================] - 1s 3ms/step - loss: 112905240.0000 - accuracy: 0.0000e+00\n",
            "Epoch 57/100\n",
            "200/200 [==============================] - 1s 3ms/step - loss: 112905232.0000 - accuracy: 0.0000e+00\n",
            "Epoch 58/100\n",
            "200/200 [==============================] - 1s 3ms/step - loss: 112905240.0000 - accuracy: 0.0000e+00\n",
            "Epoch 59/100\n",
            "200/200 [==============================] - 1s 3ms/step - loss: 112905256.0000 - accuracy: 0.0000e+00\n",
            "Epoch 60/100\n",
            "200/200 [==============================] - 1s 3ms/step - loss: 112905232.0000 - accuracy: 0.0000e+00\n",
            "Epoch 61/100\n",
            "200/200 [==============================] - 1s 3ms/step - loss: 112905232.0000 - accuracy: 0.0000e+00\n",
            "Epoch 62/100\n",
            "200/200 [==============================] - 1s 3ms/step - loss: 112905232.0000 - accuracy: 0.0000e+00\n",
            "Epoch 63/100\n",
            "200/200 [==============================] - 0s 2ms/step - loss: 112905256.0000 - accuracy: 0.0000e+00\n",
            "Epoch 64/100\n",
            "200/200 [==============================] - 0s 2ms/step - loss: 112905256.0000 - accuracy: 0.0000e+00\n",
            "Epoch 65/100\n",
            "200/200 [==============================] - 0s 2ms/step - loss: 112905224.0000 - accuracy: 0.0000e+00\n",
            "Epoch 66/100\n",
            "200/200 [==============================] - 0s 2ms/step - loss: 112905256.0000 - accuracy: 0.0000e+00\n",
            "Epoch 67/100\n",
            "200/200 [==============================] - 0s 2ms/step - loss: 112905232.0000 - accuracy: 0.0000e+00\n",
            "Epoch 68/100\n",
            "200/200 [==============================] - 0s 2ms/step - loss: 112905264.0000 - accuracy: 0.0000e+00\n",
            "Epoch 69/100\n",
            "200/200 [==============================] - 0s 2ms/step - loss: 112905224.0000 - accuracy: 0.0000e+00\n",
            "Epoch 70/100\n",
            "200/200 [==============================] - 0s 2ms/step - loss: 112905200.0000 - accuracy: 0.0000e+00\n",
            "Epoch 71/100\n",
            "200/200 [==============================] - 0s 2ms/step - loss: 112905240.0000 - accuracy: 0.0000e+00\n",
            "Epoch 72/100\n",
            "200/200 [==============================] - 0s 2ms/step - loss: 112905224.0000 - accuracy: 0.0000e+00\n",
            "Epoch 73/100\n",
            "200/200 [==============================] - 0s 2ms/step - loss: 112905224.0000 - accuracy: 0.0000e+00\n",
            "Epoch 74/100\n",
            "200/200 [==============================] - 0s 2ms/step - loss: 112905264.0000 - accuracy: 0.0000e+00\n",
            "Epoch 75/100\n",
            "200/200 [==============================] - 0s 2ms/step - loss: 112905192.0000 - accuracy: 0.0000e+00\n",
            "Epoch 76/100\n",
            "200/200 [==============================] - 0s 2ms/step - loss: 112905240.0000 - accuracy: 0.0000e+00\n",
            "Epoch 77/100\n",
            "200/200 [==============================] - 0s 2ms/step - loss: 112905240.0000 - accuracy: 0.0000e+00\n",
            "Epoch 78/100\n",
            "200/200 [==============================] - 0s 2ms/step - loss: 112905264.0000 - accuracy: 0.0000e+00\n",
            "Epoch 79/100\n",
            "200/200 [==============================] - 0s 2ms/step - loss: 112905232.0000 - accuracy: 0.0000e+00\n",
            "Epoch 80/100\n",
            "200/200 [==============================] - 0s 2ms/step - loss: 112905264.0000 - accuracy: 0.0000e+00\n",
            "Epoch 81/100\n",
            "200/200 [==============================] - 0s 2ms/step - loss: 112905232.0000 - accuracy: 0.0000e+00\n",
            "Epoch 82/100\n",
            "200/200 [==============================] - 0s 2ms/step - loss: 112905280.0000 - accuracy: 0.0000e+00\n",
            "Epoch 83/100\n",
            "200/200 [==============================] - 0s 2ms/step - loss: 112905272.0000 - accuracy: 0.0000e+00\n",
            "Epoch 84/100\n",
            "200/200 [==============================] - 0s 2ms/step - loss: 112905192.0000 - accuracy: 0.0000e+00\n",
            "Epoch 85/100\n",
            "200/200 [==============================] - 0s 2ms/step - loss: 112905208.0000 - accuracy: 0.0000e+00\n",
            "Epoch 86/100\n",
            "200/200 [==============================] - 0s 2ms/step - loss: 112905208.0000 - accuracy: 0.0000e+00\n",
            "Epoch 87/100\n",
            "200/200 [==============================] - 1s 3ms/step - loss: 112905232.0000 - accuracy: 0.0000e+00\n",
            "Epoch 88/100\n",
            "200/200 [==============================] - 1s 3ms/step - loss: 112905232.0000 - accuracy: 0.0000e+00\n",
            "Epoch 89/100\n",
            "200/200 [==============================] - 1s 3ms/step - loss: 112905200.0000 - accuracy: 0.0000e+00\n",
            "Epoch 90/100\n",
            "200/200 [==============================] - 1s 3ms/step - loss: 112905240.0000 - accuracy: 0.0000e+00\n",
            "Epoch 91/100\n",
            "200/200 [==============================] - 1s 6ms/step - loss: 112905224.0000 - accuracy: 0.0000e+00\n",
            "Epoch 92/100\n",
            "200/200 [==============================] - 1s 3ms/step - loss: 112905208.0000 - accuracy: 0.0000e+00\n",
            "Epoch 93/100\n",
            "200/200 [==============================] - 1s 5ms/step - loss: 112905232.0000 - accuracy: 0.0000e+00\n",
            "Epoch 94/100\n",
            "200/200 [==============================] - 1s 5ms/step - loss: 112905192.0000 - accuracy: 0.0000e+00\n",
            "Epoch 95/100\n",
            "200/200 [==============================] - 1s 4ms/step - loss: 112905232.0000 - accuracy: 0.0000e+00\n",
            "Epoch 96/100\n",
            "200/200 [==============================] - 1s 4ms/step - loss: 112905272.0000 - accuracy: 0.0000e+00\n",
            "Epoch 97/100\n",
            "200/200 [==============================] - 0s 2ms/step - loss: 112905232.0000 - accuracy: 0.0000e+00\n",
            "Epoch 98/100\n",
            "200/200 [==============================] - 0s 2ms/step - loss: 112905224.0000 - accuracy: 0.0000e+00\n",
            "Epoch 99/100\n",
            "200/200 [==============================] - 0s 2ms/step - loss: 112905272.0000 - accuracy: 0.0000e+00\n",
            "Epoch 100/100\n",
            "200/200 [==============================] - 0s 2ms/step - loss: 112905240.0000 - accuracy: 0.0000e+00\n"
          ]
        },
        {
          "output_type": "execute_result",
          "data": {
            "text/plain": [
              "<keras.callbacks.History at 0x7f0a03c0f970>"
            ]
          },
          "metadata": {},
          "execution_count": 68
        }
      ],
      "source": [
        "model.fit(X_train,y_train,batch_size=32,epochs=100)"
      ]
    },
    {
      "cell_type": "code",
      "execution_count": null,
      "metadata": {
        "id": "uzSdPhz2Oe2O"
      },
      "outputs": [],
      "source": []
    },
    {
      "cell_type": "markdown",
      "metadata": {
        "id": "NirfWMLxOe-P"
      },
      "source": [
        "# 6.) Make two visualizations of your NN using “plot_model” and “ann_viz”"
      ]
    },
    {
      "cell_type": "code",
      "execution_count": 73,
      "metadata": {
        "id": "EkAI6lrlOiti"
      },
      "outputs": [],
      "source": [
        "from tensorflow.keras.utils import plot_model"
      ]
    },
    {
      "cell_type": "code",
      "source": [
        "plot_model(model,show_shapes=True)"
      ],
      "metadata": {
        "colab": {
          "base_uri": "https://localhost:8080/",
          "height": 422
        },
        "id": "RdS_GkIlpDKd",
        "outputId": "b1d6c9a4-712c-4913-d85e-5951a59dbe53"
      },
      "execution_count": 74,
      "outputs": [
        {
          "output_type": "execute_result",
          "data": {
            "image/png": "[encoded data removed]",
            "text/plain": [
              "<IPython.core.display.Image object>"
            ]
          },
          "metadata": {},
          "execution_count": 74
        }
      ]
    },
    {
      "cell_type": "code",
      "source": [],
      "metadata": {
        "id": "8utaSu_Oq50h"
      },
      "execution_count": null,
      "outputs": []
    },
    {
      "cell_type": "code",
      "source": [
        "pip install ann_visualizer"
      ],
      "metadata": {
        "colab": {
          "base_uri": "https://localhost:8080/"
        },
        "id": "h5sxN1rFpJyF",
        "outputId": "4afc7936-4bbb-499b-d9cb-1a2036433f68"
      },
      "execution_count": 75,
      "outputs": [
        {
          "output_type": "stream",
          "name": "stdout",
          "text": [
            "Looking in indexes: https://pypi.org/simple, https://us-python.pkg.dev/colab-wheels/public/simple/\n",
            "Requirement already satisfied: ann_visualizer in /usr/local/lib/python3.8/dist-packages (2.5)\n"
          ]
        }
      ]
    },
    {
      "cell_type": "code",
      "source": [
        "from ann_visualizer.visualize import ann_viz \n",
        "\n",
        "ann_viz(model, title=\"Neural Network Architecture\")"
      ],
      "metadata": {
        "id": "lVk3PYT6pRn9"
      },
      "execution_count": 81,
      "outputs": []
    }
  ],
  "metadata": {
    "colab": {
      "provenance": []
    },
    "kernelspec": {
      "display_name": "Python 3",
      "name": "python3"
    },
    "language_info": {
      "name": "python"
    }
  },
  "nbformat": 4,
  "nbformat_minor": 0
}